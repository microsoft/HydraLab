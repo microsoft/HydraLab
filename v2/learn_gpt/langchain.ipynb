{
 "cells": [
  {
   "cell_type": "markdown",
   "id": "876ae2cc-39a7-4f50-b4dc-291f7bb4dd1f",
   "metadata": {},
   "source": [
    "# 定义模型"
   ]
  },
  {
   "cell_type": "code",
   "execution_count": 22,
   "id": "6fc6c98a-aea5-4ba2-b047-8247a7261e47",
   "metadata": {},
   "outputs": [],
   "source": [
    "from langchain_openai import AzureChatOpenAI, ChatOpenAI\n",
    "from dotenv import load_dotenv, find_dotenv\n",
    "import os\n",
    "\n",
    "_ = load_dotenv(find_dotenv())\n",
    "\n",
    "model = AzureChatOpenAI(\n",
    "    openai_api_version=\"2024-02-01\",\n",
    "    azure_deployment=os.getenv('AZURE_OPENAI_DEPLOYMENT'),\n",
    "    temperature=0,\n",
    ")\n",
    "model_35 = ChatOpenAI(model=\"gpt-3.5-turbo-0125\", temperature=0)"
   ]
  },
  {
   "cell_type": "code",
   "execution_count": 23,
   "id": "a10a602a-bf6c-4e22-8af4-7a9ee2c794ff",
   "metadata": {},
   "outputs": [
    {
     "data": {
      "text/plain": [
       "AIMessage(content='NanoDet是一种轻量级目标检测模型，专门设计用于在资源受限的环境下进行实时目标检测。该模型基于MobileNetV3网络结构，通过精心设计的网络结构和优化策略，实现了高效的目标检测性能。\\n\\nNanoDet模型具有以下特点：\\n1. 轻量级：NanoDet模型采用了轻量级的MobileNetV3网络结构，减少了模型参数和计算量，适合在资源受限的设备上部署。\\n2. 高效性能：尽管是轻量级模型，NanoDet在目标检测任务上表现出色，具有较高的准确率和检测速度。\\n3. 实时性能：NanoDet模型设计用于实时目标检测，能够在较短的时间内完成目标检测任务。\\n4. 易部署：NanoDet模型可以轻松部署在各种嵌入式设备和移动设备上，为各种应用场景提供目标检测功能。\\n\\n总的来说，NanoDet是一种高效、轻量级的目标检测模型，适合在资源受限的环境下进行实时目标检测任务。', response_metadata={'token_usage': {'completion_tokens': 349, 'prompt_tokens': 15, 'total_tokens': 364}, 'model_name': 'gpt-3.5-turbo-0125', 'system_fingerprint': None, 'finish_reason': 'stop', 'logprobs': None}, id='run-d3155bb5-215a-4370-912d-5d1bc8c62939-0')"
      ]
     },
     "execution_count": 23,
     "metadata": {},
     "output_type": "execute_result"
    }
   ],
   "source": [
    "model_35.invoke('介绍下NanoDet模型')"
   ]
  },
  {
   "cell_type": "markdown",
   "id": "bff2ddb0-8a2d-4c93-a8cf-d2c8e21da1e2",
   "metadata": {},
   "source": [
    "## Function calling"
   ]
  },
  {
   "cell_type": "code",
   "execution_count": 33,
   "id": "483a2797-eaa5-4323-8b21-6cbdedc66920",
   "metadata": {},
   "outputs": [
    {
     "data": {
      "text/plain": [
       "RunnableBinding(bound=ChatOpenAI(client=<openai.resources.chat.completions.Completions object at 0x1129ba7a0>, async_client=<openai.resources.chat.completions.AsyncCompletions object at 0x1129bbeb0>, model_name='gpt-3.5-turbo-0125', temperature=0.0, openai_api_key=SecretStr('**********'), openai_proxy=''), kwargs={'tools': [{'type': 'function', 'function': {'name': 'add', 'description': 'add(a: int, b: int) -> int - Adds a and b.', 'parameters': {'type': 'object', 'properties': {'a': {'type': 'integer'}, 'b': {'type': 'integer'}}, 'required': ['a', 'b']}}}, {'type': 'function', 'function': {'name': 'multiply', 'description': 'multiply(a: int, b: int) -> int - Multiplies a and b.', 'parameters': {'type': 'object', 'properties': {'a': {'type': 'integer'}, 'b': {'type': 'integer'}}, 'required': ['a', 'b']}}}, {'type': 'function', 'function': {'name': 'send_email', 'description': 'send_email(address: str, content: str) -> str - Send an email with certain content to address provided', 'parameters': {'type': 'object', 'properties': {'address': {'type': 'string'}, 'content': {'type': 'string'}}, 'required': ['address', 'content']}}}]})"
      ]
     },
     "execution_count": 33,
     "metadata": {},
     "output_type": "execute_result"
    }
   ],
   "source": [
    "from langchain_core.tools import tool\n",
    "\n",
    "@tool\n",
    "def add(a: int, b: int) -> int:\n",
    "    \"\"\"Adds a and b.\"\"\"\n",
    "    return a + b\n",
    "\n",
    "@tool\n",
    "def multiply(a: int, b: int) -> int:\n",
    "    \"\"\"Multiplies a and b.\"\"\"\n",
    "    return a * b\n",
    "\n",
    "\n",
    "@tool\n",
    "def send_email(address: str, content: str) -> str:\n",
    "    \"\"\"Send an email with certain content to address provided\"\"\"\n",
    "    print(f\"The {content} is sent to {address}\")\n",
    "    return \"success\"\n",
    "\n",
    "tools = [add, multiply, send_email]\n",
    "model_with_tools = model_35.bind_tools(tools)\n",
    "\n",
    "model_with_tools"
   ]
  },
  {
   "cell_type": "code",
   "execution_count": 34,
   "id": "1ee0f786-09af-4beb-b1a8-95504277c762",
   "metadata": {},
   "outputs": [
    {
     "data": {
      "text/plain": [
       "[{'name': 'multiply',\n",
       "  'args': {'a': 3, 'b': 12},\n",
       "  'id': 'call_MGRwnMadov5EtQ5h0jfmCmtq'},\n",
       " {'name': 'add',\n",
       "  'args': {'a': 11, 'b': 49},\n",
       "  'id': 'call_aEGpmzSxFmX4zPutMf8XdmwD'},\n",
       " {'name': 'send_email',\n",
       "  'args': {'address': 'nathan@gmail.com',\n",
       "   'content': 'The result of 3 * 12 is 36. The result of 11 + 49 is 60.'},\n",
       "  'id': 'call_oadjEP1qfE9nWrH0sAiKzmUZ'}]"
      ]
     },
     "execution_count": 34,
     "metadata": {},
     "output_type": "execute_result"
    }
   ],
   "source": [
    "query = \"What is 3 * 12? Also, what is 11 + 49? Please send the result to my friend with address nathan@gmail.com\"\n",
    "\n",
    "model_with_tools.invoke(query).tool_calls"
   ]
  },
  {
   "cell_type": "code",
   "execution_count": 35,
   "id": "ce01bff8-902f-453b-bff6-60bae1ac67ed",
   "metadata": {},
   "outputs": [
    {
     "name": "stdout",
     "output_type": "stream",
     "text": [
      "{'name': 'multiply', 'args': {'a': 3, 'b': 12}, 'id': 'call_pnkNRgUN0K1oqwoEiJ4zAAIa'}\n",
      "{'name': 'add', 'args': {'a': 11, 'b': 49}, 'id': 'call_QEcUfBPDIwqyJjYzr60FemLC'}\n",
      "The The result of 3 * 12 is 36. The result of 11 + 49 is 60. is sent to nathan@gmail.com\n",
      "{'name': 'send_email', 'args': {'address': 'nathan@gmail.com', 'content': 'The result of 3 * 12 is 36. The result of 11 + 49 is 60.'}, 'id': 'call_86TWbLZlHQZWBveMqslG0bWv'}\n"
     ]
    },
    {
     "data": {
      "text/plain": [
       "[HumanMessage(content='What is 3 * 12? Also, what is 11 + 49? Please send the result to my friend with address nathan@gmail.com'),\n",
       " AIMessage(content='', additional_kwargs={'tool_calls': [{'id': 'call_pnkNRgUN0K1oqwoEiJ4zAAIa', 'function': {'arguments': '{\"a\": 3, \"b\": 12}', 'name': 'multiply'}, 'type': 'function'}, {'id': 'call_QEcUfBPDIwqyJjYzr60FemLC', 'function': {'arguments': '{\"a\": 11, \"b\": 49}', 'name': 'add'}, 'type': 'function'}, {'id': 'call_86TWbLZlHQZWBveMqslG0bWv', 'function': {'arguments': '{\"address\": \"nathan@gmail.com\", \"content\": \"The result of 3 * 12 is 36. The result of 11 + 49 is 60.\"}', 'name': 'send_email'}, 'type': 'function'}]}, response_metadata={'token_usage': {'completion_tokens': 93, 'prompt_tokens': 167, 'total_tokens': 260}, 'model_name': 'gpt-3.5-turbo-0125', 'system_fingerprint': None, 'finish_reason': 'tool_calls', 'logprobs': None}, id='run-e47590b6-5a95-4cb6-a97e-177e6eb74a52-0', tool_calls=[{'name': 'multiply', 'args': {'a': 3, 'b': 12}, 'id': 'call_pnkNRgUN0K1oqwoEiJ4zAAIa'}, {'name': 'add', 'args': {'a': 11, 'b': 49}, 'id': 'call_QEcUfBPDIwqyJjYzr60FemLC'}, {'name': 'send_email', 'args': {'address': 'nathan@gmail.com', 'content': 'The result of 3 * 12 is 36. The result of 11 + 49 is 60.'}, 'id': 'call_86TWbLZlHQZWBveMqslG0bWv'}]),\n",
       " ToolMessage(content='36', tool_call_id='call_pnkNRgUN0K1oqwoEiJ4zAAIa'),\n",
       " ToolMessage(content='60', tool_call_id='call_QEcUfBPDIwqyJjYzr60FemLC'),\n",
       " ToolMessage(content='success', tool_call_id='call_86TWbLZlHQZWBveMqslG0bWv')]"
      ]
     },
     "execution_count": 35,
     "metadata": {},
     "output_type": "execute_result"
    }
   ],
   "source": [
    "from langchain_core.messages import HumanMessage, ToolMessage\n",
    "\n",
    "messages = [HumanMessage(query)]\n",
    "ai_msg = model_with_tools.invoke(messages)\n",
    "messages.append(ai_msg)\n",
    "for tool_call in ai_msg.tool_calls:\n",
    "    selected_tool = {\"add\": add, \"multiply\": multiply, \"send_email\": send_email}[tool_call[\"name\"].lower()]\n",
    "    tool_output = selected_tool.invoke(tool_call[\"args\"])\n",
    "    print(tool_call)\n",
    "    messages.append(ToolMessage(tool_output, tool_call_id=tool_call[\"id\"]))\n",
    "messages"
   ]
  },
  {
   "cell_type": "code",
   "execution_count": 36,
   "id": "37cc6ec5-3b79-43f1-b098-b338a899a611",
   "metadata": {},
   "outputs": [
    {
     "data": {
      "text/plain": [
       "AIMessage(content='I have calculated the results for you:\\n- 3 * 12 = 36\\n- 11 + 49 = 60\\n\\nI have also sent the results to your friend at the email address nathan@gmail.com.', response_metadata={'token_usage': {'completion_tokens': 47, 'prompt_tokens': 279, 'total_tokens': 326}, 'model_name': 'gpt-3.5-turbo-0125', 'system_fingerprint': None, 'finish_reason': 'stop', 'logprobs': None}, id='run-12ff43fe-82b5-4a1b-bfb6-b710e64ec8f0-0')"
      ]
     },
     "execution_count": 36,
     "metadata": {},
     "output_type": "execute_result"
    }
   ],
   "source": [
    "model_with_tools.invoke(messages)"
   ]
  },
  {
   "cell_type": "markdown",
   "id": "9a68fad2-b589-4379-b75d-a81b17b4b99b",
   "metadata": {},
   "source": [
    "## Prompt and Parser"
   ]
  },
  {
   "cell_type": "code",
   "execution_count": 3,
   "id": "1dc08169-c6f4-4bcb-9b98-7f2450f0c3a6",
   "metadata": {},
   "outputs": [
    {
     "name": "stdout",
     "output_type": "stream",
     "text": [
      "这段HTML代码中存在的问题主要有以下几点：\n",
      "\n",
      "1. 缺少了对于HTML注入攻击的防护。在HTML代码中，如果用户输入被直接插入到页面中，可能会导致HTML注入攻击。比如，用户可以在输入框中输入一段脚本，这段脚本会被插入到HTML中并执行。这可能会导致各种安全问题，比如窃取用户数据、在用户的浏览器中执行恶意操作等。\n",
      "\n",
      "2. 缺少了对于跨站脚本攻击（XSS）的防护。在这段HTML代码中，没有对用户输入进行适当的过滤或转义，可能会导致XSS攻击。比如，攻击者可以在URL参数中插入一段脚本，当其他用户访问这个URL时，这段脚本会在他们的浏览器中执行。\n",
      "\n",
      "3. 缺少了对于跨站请求伪造（CSRF）的防护。在这段HTML代码中，没有使用CSRF令牌来防止CSRF攻击。比如，攻击者可以构造一个请求，诱导用户去点击，从而在用户不知情的情况下以用户的身份执行操作。\n",
      "\n",
      "解决建议：\n",
      "\n",
      "1. 对用户输入进行适当的过滤或转义，防止HTML注入攻击。可以使用一些库，比如OWASP的Java Encoder库，来对用户输入进行转义。\n",
      "\n",
      "2. 使用内容安全策略（CSP）来防止XSS攻击。CSP可以限制浏览器只加载和执行来自特定来源的脚本，从而防止XSS攻击。\n",
      "\n",
      "3. 使用CSRF令牌来防止CSRF攻击。在每个需要防止CSRF攻击的表单中，都应该包含一个CSRF令牌。服务器应该验证这个令牌，只有当令牌验证通过时，才执行相应的操作。\n"
     ]
    }
   ],
   "source": [
    "from langchain_core.prompts import ChatPromptTemplate\n",
    "from langchain_core.output_parsers import StrOutputParser\n",
    "\n",
    "prompt = ChatPromptTemplate.from_messages(\n",
    "    [\n",
    "        ('system', '你是一个专业的软件安全测试工程师，善于发现HTML网页中的漏洞'),\n",
    "        ('user', '请指出这段网页HTLM代码中的问题并做详细解释，结合HTML实际代码给出解决建议:\\n{html}')\n",
    "    ]\n",
    ")\n",
    "\n",
    "with open('Aidd.html', \"r\", encoding=\"utf-8\") as f:\n",
    "    html = f.read()\n",
    "\n",
    "output_parser = StrOutputParser()\n",
    "\n",
    "chain = prompt | model | output_parser\n",
    "\n",
    "response = chain.invoke({\"html\": html})\n",
    "print(response)"
   ]
  },
  {
   "cell_type": "code",
   "execution_count": 8,
   "id": "ef7aae9e-ace9-43b4-8377-570cbb0c1b00",
   "metadata": {},
   "outputs": [
    {
     "name": "stdout",
     "output_type": "stream",
     "text": [
      "content='1. SQL注入漏洞：攻击者通过输入恶意的SQL语句，使得应用程序执行非预期的SQL命令。\\n\\n2. 跨站脚本攻击（XSS）：攻击者通过在网页中插入恶意脚本，当其他用户浏览该网页时，这些脚本会被执行，从而达到攻击的目的。\\n\\n3. 跨站请求伪造（CSRF）：攻击者诱导用户点击链接，以用户的身份发送恶意请求。\\n\\n4. 文件上传漏洞：由于服务器对上传文件的处理不当，攻击者可以上传恶意文件，进而控制服务器。\\n\\n5. 命令注入漏洞：攻击者通过输入恶意的命令，使得应用程序执行非预期的系统命令。\\n\\n6. 信息泄露和错误处理：应用程序在处理错误时，可能会泄露系统的敏感信息，为攻击者提供攻击线索。\\n\\n7. 服务器配置错误：如目录列表、默认页面、未授权的HTTP方法等，可能会被攻击者利用。\\n\\n8. 无效的输入验证：如果应用程序没有对用户的输入进行严格的验证和过滤，可能会被攻击者利用。\\n\\n9. 会话管理漏洞：如会话劫持、会话固定等，攻击者可以利用这些漏洞，冒充其他用户。\\n\\n10. 不安全的直接对象引用：攻击者可以通过修改参数，访问到不应该访问的对象。' response_metadata={'token_usage': {'completion_tokens': 428, 'prompt_tokens': 26, 'total_tokens': 454}, 'model_name': 'gpt-4-32k', 'system_fingerprint': None, 'prompt_filter_results': [{'prompt_index': 0, 'content_filter_results': {'hate': {'filtered': False, 'severity': 'safe'}, 'self_harm': {'filtered': False, 'severity': 'safe'}, 'sexual': {'filtered': False, 'severity': 'safe'}, 'violence': {'filtered': False, 'severity': 'safe'}}}], 'finish_reason': 'stop', 'logprobs': None, 'content_filter_results': {'hate': {'filtered': False, 'severity': 'safe'}, 'self_harm': {'filtered': False, 'severity': 'safe'}, 'sexual': {'filtered': False, 'severity': 'safe'}, 'violence': {'filtered': False, 'severity': 'safe'}}} id='run-03d4c76f-d2aa-4bbd-aa48-b6197d7d5fdb-0'\n"
     ]
    }
   ],
   "source": [
    "from langchain_openai import AzureOpenAI\n",
    "from langchain_core.messages import HumanMessage\n",
    "llm = AzureOpenAI(\n",
    "    openai_api_version=\"2024-02-01\", \n",
    "    azure_deployment=os.getenv('AZURE_OPENAI_DEPLOYMENT')\n",
    ")\n",
    "# print(llm.invoke('请告诉我网页一般存在哪些漏洞？'))\n",
    "\n",
    "# print(llm.invoke([HumanMessage(content='请告诉我网页一般存在哪些漏洞？')]))\n",
    "\n",
    "print(model.invoke([HumanMessage(content='请告诉我网页一般存在哪些漏洞？')]))"
   ]
  },
  {
   "cell_type": "code",
   "execution_count": 7,
   "id": "4356250f-ed7b-44c5-a15f-02f3889a4b87",
   "metadata": {},
   "outputs": [
    {
     "name": "stdout",
     "output_type": "stream",
     "text": [
      "[SystemMessage(content='你是一个专业的软件安全测试工程师，善于发现HTML网页中的漏洞'), HumanMessage(content='请指出这段网页HTLM代码中的问题并做详细解释，结合HTML实际代码给出解决建议:\\n\\n<!DOCTYPE html>\\n<html lang=\"zh\">\\n    <head>\\n        <meta http-equiv=\"Content-Type\" content=\"text/html;charset=utf-8\">\\n        <title>AiDD软件研发数字峰会-深圳站</title>\\n        <meta name=\"description\" content=\"\">\\n        <meta name=\"keywords\" content=\"AiDD,数字峰会,大会嘉宾,深圳站\">\\n        \\n        \\n        <meta name=\"viewport\" content=\"width=device-width\">\\n        <script>\\n            (function() {\\n                window.os = (function() {\\n                    var ua = navigator.userAgent;\\n                    var isWindowsPhone = /(?:Windows Phone)/.test(ua);\\n                    var isSymbian = /(?:SymbianOS)/.test(ua) || isWindowsPhone;\\n                    var isAndroid = /(?:Android)/.test(ua);\\n                    var isFireFox = /(?:Firefox)/.test(ua);\\n                    var isChrome = /(?:Chrome|CriOS)/.test(ua);\\n                    var isTablet = /(?:iPad|PlayBook)/.test(ua) || (isAndroid && !/(?:Mobile)/.test(ua)) || (isFireFox && /(?:Tablet)/.test(ua));\\n                    var isPhone = /(?:iPhone)/.test(ua) && !isTablet;\\n                    var isPc = !isPhone && !isAndroid && !isSymbian;\\n                    return {\\n                        isTablet: isTablet,\\n                        isPhone: isPhone,\\n                        isAndroid: isAndroid,\\n                        isPc: isPc\\n                    };\\n                })();\\n\\n                if (window.os.isTablet || !window.os.isPc) {\\n                    var metas = document.getElementsByTagName(\\'meta\\');\\n                    for (var j = 0; j < metas.length; j++) {\\n                        var meta = metas[j];\\n                        if (meta.name === \\'viewport\\') {\\n                            meta.content = \"width=1440, minimal-ui, viewport-fit=cover\";\\n                            return;\\n                        }\\n                    }\\n                }\\n            })();\\n        </script>\\n        \\n\\n        <meta http-equiv=\"X-UA-Compatible\" content=\"IE=edge,chrome=1\">\\n        <meta name=\"renderer\" content=\"webkit\">\\n        <meta name=\"force-rendering\" content=\"webkit\"/>\\n        <meta name=\"format-detection\" content=\"telephone=no\">\\n        <meta HTTP-EQUIV=\"pragma\" CONTENT=\"no-cache\">\\n        <meta HTTP-EQUIV=\"Cache-Control\" CONTENT=\"no-store, must-revalidate\">\\n        <!-- UC & QQ 强制竖屏 -->\\n        <meta name=\"screen-orientation\" content=\"portrait\">\\n        <meta name=\"x5-orientation\" content=\"portrait\">\\n        <meta name=\"apple-mobile-web-app-capable\" content=\"yes\">\\n        <meta name=\"apple-mobile-web-app-status-bar-style\" content=\"black\">\\n\\n        \\n\\n        <link rel=\"icon\" type=\"image/x-icon\" href=\"/resources/upload/a7844a45d8ab55e/1680768571301.png\">\\n        <link rel=\"miphtml\">\\n\\n\\n        \\n            <link rel=\"stylesheet\" href=\"/resources/static/page_659e841.css\" />\\n    <link rel=\"stylesheet\" href=\"/resources/static/client_b190fdd.css\" />\\n\\n        <link rel=\"stylesheet\" href=\"/zh/static/theme-pc.css?v=1715396033729\" />\\n\\n        <!--自定义头部-->\\n        \\n\\n\\n        \\n\\n        \\n\\n        \\n\\n        <script>\\n            window.aipage = window.aipage || {};\\n            window.aipage.env = {\\n                siteId: \\'4acdf0b5-2ac8-4a63-8ab7-42ac9f35de37\\',\\n                pageId: \\'b88d16de-55c1-474b-ab3b-0c3d2b2195a0\\',\\n                dataId: \\'0\\',\\n                mode: \\'bos\\',\\n                deviceType: \\'pc\\',\\n                language: \\'zh\\',\\n                pageScroll: \\'{}\\',\\n                serviceUrl: \\'https://aipage.bce.baidu.com\\' || location.origin,\\n                actions: {}\\n            };\\n        </script>\\n\\n        <script src=\"/resources/static/lib_bac73d8.js\"></script>\\n        \\n\\n        \\n        <!-- 百度统计 -->\\n        <script>\\n            var _hmt = _hmt || [];\\n            (function() {\\n                var hm = document.createElement(\"script\");\\n                hm.src = \"https://hm.baidu.com/hm.js?d4400c81046af8de7019811b019f4b59\";\\n                var s = document.getElementsByTagName(\"script\")[0];\\n                s.parentNode.insertBefore(hm, s);\\n            })();\\n        </script>\\n        \\n    </head>\\n\\n    <body>\\n        \\n\\n        \\n\\n        \\n\\n        <div class=\"preview\" id=\"preview\">\\n            <div id=\"a9355a4dcaa54c7\" section-id=\"a9355a4dcaa54c7\" data-id=\"a9355a4dcaa54c7\" class=\"section uk-section uk-padding-remove-vertical uk-section-[object Object] uk-dark navigator\" uk-header uk-sticky style=\";height:110px;\"><div class=\"free-content-wrap\" style=\"max-width: 1200px; margin-left: -600px\"><div id=\"a5ed7ac649a0408\" class=\"box\" data-id=\"a5ed7ac649a0408\" style=\"left:14px;top:16px;width:1170px;min-height:90px;position:absolute;height:90px\"><div class=\"ele-wrap normal\"><div id=\"a6cebaa34da0952\" class=\"image\" data-id=\"a6cebaa34da0952\" style=\"left:89px;top:20px;width:325px;min-height:62px;position:absolute;height:62px\">\\n\\n\\n\\n\\n    \\n\\n        \\n        <a href=\"/\" class=\"img-wrap \" style=\";background-image: url(/resources/upload/a7844a45d8ab55e/1701654896237.png);\" target=\"_blank\">\\n            <img src=\"/resources/upload/a7844a45d8ab55e/1701654896237.png\" width=\"100%\" style=\"opacity: 0\" alt=\"AIDD软件研发数字峰会\">\\n        </a>\\n        \\n\\n    \\n\\n</div><div id=\"a8a32a975eac291\" class=\"h-menu-3\" data-id=\"a8a32a975eac291\" style=\"left:466px;top:20px;width:530px;min-height:49px;position:absolute;height:49px\">\\n<ul class=\"menu-list ap-flex-between\">\\n    \\n    <li class=\"menu-item\">\\n        <a href=\"/sz\" target=\"_self\">\\n            \\n            首页\\n\\n        </a>\\n\\n        \\n    </li>\\n    \\n    <li class=\"menu-item\">\\n        <a href=\"/dhjb-sz2023\" target=\"_blank\">\\n            \\n            嘉宾\\n\\n        </a>\\n\\n        \\n    </li>\\n    \\n    <li class=\"menu-item\">\\n        <a href=\"/dhlt-sz2023\" target=\"_self\">\\n            \\n            大会论坛\\n\\n        </a>\\n\\n        \\n    </li>\\n    \\n    <li class=\"menu-item\">\\n        <a href=\"/dhrc-sz2023\" target=\"_self\">\\n            \\n            大会日程\\n\\n        </a>\\n\\n        \\n    </li>\\n    \\n    <li class=\"menu-item\">\\n        <a href=\"/chbm-sz2023\" target=\"_self\">\\n            \\n            参会报名\\n\\n        </a>\\n\\n        \\n    </li>\\n    \\n    <li class=\"menu-item\">\\n        <a href=\"/AITalk\" target=\"_blank\">\\n            \\n            Al+Talk\\n\\n        </a>\\n\\n        \\n    </li>\\n    \\n</ul>\\n\\n\\n\\n<script>\\n    $(function () {\\n        $(\\'#a8a32a975eac291 .menu-list > li\\').hover(function () {\\n            $(this).find(\\'ul\\').stop().fadeIn();\\n        }, function () {\\n            $(this).find(\\'ul\\').hide();\\n        });\\n    });\\n</script></div><div id=\"aa3b0ab592a3827\" class=\"image\" data-id=\"aa3b0ab592a3827\" style=\"left:1018px;top:10px;width:130px;min-height:70px;position:absolute;overflow:hidden;height:70px\">\\n\\n\\n\\n\\n    \\n\\n        \\n        <a href=\"/chbm-sz2023\" class=\"img-wrap  effect-image-scale\" style=\";background-image: url(/resources/upload/a7844a45d8ab55e/1686559135508.jpeg);\" target=\"_blank\">\\n            <img src=\"/resources/upload/a7844a45d8ab55e/1686559135508.jpeg\" width=\"100%\" style=\"opacity: 0\" alt=\"AiDD软件研发数字峰会\">\\n        </a>\\n        \\n\\n    \\n\\n</div></div></div></div><div class=\"ap-content-container\">\\n  \\n\\n\\n<style>\\n    \\n    #a9355a4dcaa54c7 {\\n\\t\\tbackground-color: rgba(255, 255, 255, 1); \\n\\t}\\n    \\n\\n    \\n\\n    \\n</style>\\n\\n\\n</div></div>\\n        \\n\\n    \\n\\n</div>\\n\\n\\n\\n\\n    \\n\\n        \\n    \\n\\n\\n\\n\\n    \\n\\n        \\n        <div class=\"img-wrap  effect-image-shine\" style=\";background-image: url(/resources/upload/a7844a45d8ab55e/1697705704236.png);\">\\n            <img src=\"/resources/upload/a7844a45d8ab55e/1697705704236.png\" width=\"100%\" style=\"opacity: 0\" alt>\\n        </div>\\n        \\n\\n    \\n\\n</div><h5 id=\"ae83ead1b4ab302\" class=\"text no-margin nowrap\" data-id=\"ae83ead1b4ab302\" style=\"; left:140px;top:20px;width:206px;min-height:23px;position:absolute;height:23px\"><div style=\"text-shadow: none;\"><span style=\"color: rgb(77, 146, 226); font-family: NotoSansSC-Light;\">小  山</span></div></h5><div id=\"ae252a3db1a22ed\" class=\"text no-margin\" data-id=\"ae252a3db1a22ed\" style=\"; left:140px;top:50px;width:213px;min-height:21px;position:absolute;height:21px\"><div style=\"text-shadow: none;\"><span style=\"font-size: 14px; color: rgb(102, 102, 102); font-family: NotoSansSC-Light;\">原百度资深产品经理</span></div></div></div></div></div></div></div>\\n        \\n    </li>\\n    \\n</ul>\\n\\n\\n\\n\\n\\n\\n<script>\\n$(function(){\\n    var $tabNav = $(\\'#acc6aae518a58e7 > .tab-tabs > .tab-nav-horizontal\\');\\n    var $nextBtn = $(\\'#acc6aae518a58e7 > .tab-tabs > .tab-nav-next\\');\\n    var $prevBtn = $(\\'#acc6aae518a58e7 > .tab-tabs > .tab-nav-prev\\');\\n    var $li = $(\\'#acc6aae518a58e7 > .tab-tabs > .tab-nav-horizontal > li\\');\\n    var $content = $(\\'#acc6aae518a58e7 > .tab-contents > .tab-content\\');\\n    var catew = $(\\'#acc6aae518a58e7\\').width() - 148;\\n    var cateLiw = 0;\\n    var i =0;\\n    var isNavigation = false;\\n\\n    $li.each(function() {\\n        cateLiw += $(this).outerWidth();\\n    })\\n\\n    if (cateLiw > catew) {\\n        $nextBtn.show();\\n    }\\n\\n    $nextBtn.click(function() {\\n        $prevBtn.show();\\n        $tabNav.animate({\\n            \"margin-left\": -catew * (i + 1) + \\'px\\'\\n        },500)\\n        i++;\\n        if(catew * (i + 1) + catew > cateLiw) {\\n            $nextBtn.hide();\\n        }\\n    })\\n    $prevBtn.click(function() {\\n        i--;\\n        $tabNav.animate({\\n            \"margin-left\": -catew * i + \\'px\\'\\n        }, 500)\\n        $nextBtn.show();\\n        if(i === 0) {\\n            $prevBtn.hide();\\n        }\\n    })\\n\\n    // 如果用于页面菜单导航，页面跳转后高亮菜单\\n    if (isNavigation) {\\n        var activeIndex = -1;\\n        $content.each(function(index, item) {\\n            var $a = $(item).find(\"a\");\\n            $a.each(function(i, o) {\\n                if ($(o).attr(\"href\") === location.pathname) {\\n                    activeIndex = index;\\n                }\\n            })  \\n        });\\n        $li.each(function(index, item) {\\n            var $a = $(item).find(\"a\");\\n            $a.each(function(i, o) {\\n                if ($(o).attr(\"href\") === location.pathname) {\\n                    activeIndex = index;\\n                }\\n            })  \\n        });\\n\\n        if (activeIndex !== -1) {\\n            $li.eq(activeIndex).addClass(\\'uk-active\\').siblings().removeClass(\"uk-active\");\\n            $li.eq(activeIndex).attr(\"is-active-menu\", \"1\").siblings().removeAttr(\"is-active-menu\");\\n        }\\n    }\\n})\\n</script></div></div><div class=\"ap-content-container\"> </div></div><div id=\"a1336ab55aa035e\" section-id=\"a1336ab55aa035e\" data-id=\"a1336ab55aa035e\" class=\"section uk-section uk-section-small uk-dark footer\" style=\";height:290px;overflow:hidden;background: rgba(0,0,0,1);\">\\n                        <div class=\"ap-background-container uk-cover-container\" style=\"background: rgba(0,0,0,1)\">\\n                            \\n                        </div>\\n                    <div class=\"free-content-wrap\" style=\"max-width: 1200px; margin-left: -600px\"><div id=\"a8f3babbf6a1d7f\" class=\"box\" data-id=\"a8f3babbf6a1d7f\" style=\"left:15px;top:28px;width:1170px;min-height:225px;position:absolute;height:225px\"><div class=\"ele-wrap normal\"><div id=\"a89adac210ae003\" class=\"text no-margin\" data-id=\"a89adac210ae003\" style=\"; left:32px;top:14px;width:200px;min-height:42px;position:absolute;height:42px\"><div style=\"text-shadow: none;\"><span style=\"font-size: 28px; color: rgb(255, 255, 255); font-family: NotoSansSC-Light;\">AiDD峰会</span><span style=\"font-family: NotoSansSC-Light;\"><span style=\"font-size: 14px; color: rgb(255, 255, 255);\"></span></span><span style=\"font-size: 14px; color: rgb(102, 102, 102);\"><br></span></div></div><div id=\"ac1b6a5999a51a7\" class=\"text no-margin\" data-id=\"ac1b6a5999a51a7\" style=\"; left:332px;top:11px;width:200px;min-height:42px;position:absolute;height:42px\"><div style=\"text-shadow: none;\"><span style=\"font-size: 28px; color: rgb(255, 255, 255); font-family: NotoSansSC-Light;\">K+峰会</span><span style=\"font-size: 14px; color: rgb(102, 102, 102);\"><br></span></div></div><div id=\"aba82ac2d0a8f1a\" class=\"text no-margin\" data-id=\"aba82ac2d0a8f1a\" style=\"; left:629px;top:11px;width:133px;min-height:42px;position:absolute;height:42px\"><div style=\"text-shadow: none;\"><span style=\"font-size: 28px; color: rgb(255, 255, 255); font-family: NotoSansSC-Light;\">联系我们</span><span style=\"font-family: NotoSansSC-Light;\"><span style=\"font-size: 28px; color: rgb(255, 255, 255);\"></span></span><span style=\"font-size: 14px; color: rgb(102, 102, 102);\"><br></span></div></div><div id=\"a98fba2f31a5356\" class=\"image\" data-id=\"a98fba2f31a5356\" style=\"left:1074px;top:16px;width:80px;min-height:80px;position:absolute;height:80px\">\\n\\n\\n\\n\\n    \\n\\n        \\n        <div class=\"img-wrap \" style=\";background-image: url(/resources/upload/a7844a45d8ab55e/1680511211158.jpeg);\">\\n            <img src=\"/resources/upload/a7844a45d8ab55e/1680511211158.jpeg\" width=\"100%\" style=\"opacity: 0\" alt>\\n        </div>\\n        \\n\\n    \\n\\n</div>\\n                    <div class=\"section uk-text-center section-icp uk-section-muted\">\\n                        \\n                        <a class=\"uk-margin-small-right\" target=\"_blank\" ref=\"nofollow\" href=\"https://beian.miit.gov.cn\">\\n                            京ICP备2020039808号-4\\n                        </a>\\n                    \\n                        \\n                    </div>\\n                <style>\\n    .toolbar-default .toolbar-item {\\n        \\n    }\\n    \\n    .toolbar-default .toolbar-item {\\n        width: 40px;\\n        height: 40px;\\n    }\\n    .toolbar-default .toolbar-item .tool-popup {\\n        right: 50px;\\n    }\\n    \\n\\n    \\n    .toolbar-default .toolbar-item .tool-icon img,\\n    .toolbar-default .toolbar-item .tool-icon svg {\\n        max-width: 60%;\\n        width: 60%;\\n    }\\n    \\n\\n    \\n    .toolbar-default .toolbar-item:hover {\\n        background: #4285f4;\\n        border-color: #4285f4;\\n    }\\n    \\n\\n    \\n    .toolbar-default .toolbar-item{\\n        border-color: #dddddd;\\n    }\\n    \\n</style>\\n\\n<div class=\"site-toolbar toolbar-default\"  style=\"bottom: 200px;right: 20px;\" >\\n\\n    \\n    \\n    \\n\\n    \\n    <div class=\"toolbar-item to-top\">\\n        <a href=\"javascript:void(0)\">\\n            <div class=\"tool-icon\">\\n                \\n                <img src=\"/resources/sys/img/totop-default.png\" />\\n                \\n            </div>\\n            <div class=\"tool-name\">返回顶部</div>\\n        </a>\\n    </div>\\n    \\n\\n</div>\\n\\n\\n<script>\\n    $(function() {\\n        let $qrcode = $(\\'.tool-qrcode\\');\\n        if ($qrcode.length) {\\n            aipage && aipage.require.loadJs(\\'/resources/sys/lib/qrcode.min.js\\', function () {\\n                $qrcode.each(function () {\\n                    let text = $(this).attr(\\'data-link\\') || document.location.href;\\n                    var qrcode = new QRCode($(this).get(0), {\\n                        text: text,\\n                        width: 70,\\n                        height: 70,\\n                        colorDark : \"#000000\",\\n                        colorLight : \"#ffffff\",\\n                        correctLevel : QRCode.CorrectLevel.H\\n                    });\\n                });\\n            });\\n        }\\n    });\\n</script>\\n\\n            \\n        </div>\\n\\n        \\n\\n        \\n\\n        <script src=\"/resources/static/page_62a9cf8.js\"></script>\\n<script src=\"/resources/static/client_b2f6d8a.js\"></script>\\n        \\n        \\n\\n        \\n\\n        \\n        <!--统计接入-->\\n        <script>\\n            (function(i,s,o,g,r,a,m){i[\\'AIPageStat\\']=r;i[r]=i[r]||function(){\\n            (i[r].q=i[r].q||[]).unshift(arguments)},i[r].l=1*new Date();a=s.createElement(o),\\n            m=s.getElementsByTagName(o)[0];a.async=1;a.src=g;m.parentNode.insertBefore(a,m)\\n            })(window,document,\\'script\\',\\'https://aps.baidubce.com/aps.js\\',\\'aps\\');\\n\\n            aps(\\'create\\', \\'4acdf0b5-2ac8-4a63-8ab7-42ac9f35de37\\');\\n            aps(\\'send\\', \\'pageview\\');\\n        </script>\\n        \\n\\n        \\n\\n        \\n\\n\\n        \\n\\n        <!--自定义尾部-->\\n        \\n\\n        \\n        \\n    </body>\\n</html>\\n')]\n"
     ]
    }
   ],
   "source": [
    "prompt = ChatPromptTemplate.from_messages(\n",
    "    [\n",
    "        ('system', '你是一个专业的{role}，善于发现HTML网页中的漏洞'),\n",
    "        ('user', '请指出这段网页HTLM代码中的问题并做详细解释，结合HTML实际代码给出解决建议:\\n{html}')\n",
    "    ]\n",
    ")\n",
    "\n",
    "msgs = prompt.format_messages(role='软件安全测试工程师', html=html)\n",
    "print(msgs)"
   ]
  },
  {
   "cell_type": "code",
   "execution_count": 27,
   "id": "20b39b96-4482-4628-ac95-738b915032c6",
   "metadata": {},
   "outputs": [
    {
     "data": {
      "text/plain": [
       "'你作为一个测试人员任重道远'"
      ]
     },
     "execution_count": 27,
     "metadata": {},
     "output_type": "execute_result"
    }
   ],
   "source": [
    "from langchain_core.prompts import PromptTemplate\n",
    "\n",
    "template = PromptTemplate.from_template('你作为一个测试人员{next}')\n",
    "template.format(next='任重道远')"
   ]
  },
  {
   "cell_type": "code",
   "execution_count": 9,
   "id": "6ae45bcd-ff84-44d2-a997-8152c610866e",
   "metadata": {},
   "outputs": [
    {
     "name": "stdout",
     "output_type": "stream",
     "text": [
      "这段HTML代码中存在的问题主要有以下几点：\n",
      "\n",
      "1. 代码中存在大量的内联样式，这会导致代码的可读性和可维护性降低。建议将样式提取到外部CSS文件中，通过class或id进行引用。\n",
      "\n",
      "2. 代码中存在大量的JavaScript代码，这同样会影响代码的可读性和可维护性。建议将JavaScript代码提取到外部JS文件中。\n",
      "\n",
      "3. 代码中存在大量的空行和无用注释，这会增加文件的大小，影响网页的加载速度。建议删除无用的空行和注释。\n",
      "\n",
      "4. 代码中存在大量的绝对定位，这会导致页面的布局在不同设备和浏览器上显示不一致。建议使用相对定位或者flex布局进行页面布局。\n",
      "\n",
      "5. 代码中的图片资源使用了绝对路径，这会导致在不同环境下资源无法加载。建议使用相对路径或者将资源上传到CDN。\n",
      "\n",
      "6. 代码中的meta标签中的description和keywords为空，这会影响搜索引擎的SEO。建议填写合适的description和keywords。\n",
      "\n",
      "7. 代码中的链接没有添加rel=\"noopener noreferrer\"，这可能会导致页面被恶意利用。建议在所有的_blank打开的链接中添加rel=\"noopener noreferrer\"。\n",
      "\n",
      "8. 代码中的JavaScript代码没有进行错误处理，这可能会导致JavaScript错误导致页面无法正常工作。建议添加适当的错误处理代码。\n",
      "\n",
      "9. 代码中的图片没有添加alt属性，这会影响搜索引擎的SEO和无障碍访问。建议为所有的图片添加合适的alt属性。\n",
      "\n",
      "10. 代码中的script标签没有添加async或defer属性，这会导致页面阻塞。建议添加async或defer属性，使得JavaScript代码异步加载。\n",
      "\n",
      "以上就是我对这段HTML代码的分析和建议，希望对你有所帮助。"
     ]
    }
   ],
   "source": [
    "for chunk in model.stream(msgs):\n",
    "    print(chunk.content, end='', flush=True)"
   ]
  },
  {
   "cell_type": "code",
   "execution_count": 11,
   "id": "2885cd9b-f2b9-4b50-a18a-b82af9eb2a6a",
   "metadata": {},
   "outputs": [
    {
     "name": "stdout",
     "output_type": "stream",
     "text": [
      "{\n",
      "  \"type\": \"function\",\n",
      "  \"function\": {\n",
      "    \"name\": \"divide\",\n",
      "    \"description\": \"\",\n",
      "    \"parameters\": {\n",
      "      \"type\": \"object\",\n",
      "      \"properties\": {\n",
      "        \"a\": {\n",
      "          \"type\": \"integer\"\n",
      "        },\n",
      "        \"b\": {\n",
      "          \"type\": \"integer\"\n",
      "        }\n",
      "      },\n",
      "      \"required\": [\n",
      "        \"a\",\n",
      "        \"b\"\n",
      "      ]\n",
      "    }\n",
      "  }\n",
      "}\n"
     ]
    }
   ],
   "source": [
    "import json\n",
    "from langchain_core.utils.function_calling import convert_to_openai_tool\n",
    "\n",
    "def divide(a: int, b: int):\n",
    "    return a/b\n",
    "\n",
    "print(json.dumps(convert_to_openai_tool(divide), indent=2))"
   ]
  },
  {
   "cell_type": "code",
   "execution_count": 13,
   "id": "433afcfa-fe34-4e29-9fee-771a63518ce4",
   "metadata": {},
   "outputs": [
    {
     "name": "stdout",
     "output_type": "stream",
     "text": [
      "\n"
     ]
    }
   ],
   "source": [
    "model_with_div = model.bind_tools([divide])\n",
    "resp = model_with_div.invoke(\"16 / 4\")\n",
    "print(resp.content)"
   ]
  },
  {
   "cell_type": "code",
   "execution_count": 33,
   "id": "4894101a-ab52-473e-9fea-e3356c4195e1",
   "metadata": {},
   "outputs": [],
   "source": [
    "import os\n",
    "\n",
    "os.environ['LANGCHAIN_TRACING_V2']='false'\n",
    "os.environ['LANGCHAIN_API_KEY']='langchain_key'"
   ]
  },
  {
   "cell_type": "code",
   "execution_count": 34,
   "id": "06db85b7-43c4-4c5b-a874-082908fcf7f1",
   "metadata": {},
   "outputs": [
    {
     "name": "stdout",
     "output_type": "stream",
     "text": [
      "这段HTML代码存在以下问题：\n",
      "\n",
      "1. 缺少输入验证：在表单提交时，没有对用户输入进行验证，容易导致安全漏洞，如SQL注入、跨站脚本攻击等。\n",
      "\n",
      "2. 缺少HTTPS协议：该网页没有使用HTTPS协议进行加密传输，容易被黑客窃取用户信息。\n",
      "\n",
      "3. 缺少CSRF防护：该网页没有对CSRF攻击进行防护，容易导致用户信息被窃取或篡改。\n",
      "\n",
      "4. 缺少XSS防护：该网页没有对XSS攻击进行防护，容易导致用户信息被窃取或篡改。\n",
      "\n",
      "解决建议：\n",
      "\n",
      "1. 在表单提交时，对用户输入进行验证，防止安全漏洞的发生。\n",
      "\n",
      "2. 使用HTTPS协议进行加密传输，保障用户信息的安全。\n",
      "\n",
      "3. 对CSRF攻击进行防护，如使用Token验证等方式。\n",
      "\n",
      "4. 对XSS攻击进行防护，如对用户输入进行过滤、转义等方式。"
     ]
    }
   ],
   "source": [
    "for chunk in model.stream(msgs):\n",
    "    print(chunk.content, end='', flush=True)"
   ]
  },
  {
   "cell_type": "code",
   "execution_count": 11,
   "id": "4a043962-d933-4c08-9d4f-0ff4d657f856",
   "metadata": {},
   "outputs": [
    {
     "name": "stdout",
     "output_type": "stream",
     "text": [
      "77\n"
     ]
    }
   ],
   "source": [
    "from langchain_community.vectorstores import Chroma\n",
    "Sa\n",
    "\n",
    "loader = WebBaseLoader(\"https://learn.microsoft.com/en-us/azure/ai-services/openai/how-to/chatgpt\")\n",
    "web_attack_data = loader.load()\n",
    "\n",
    "text_splitter = RecursiveCharacterTextSplitter(chunk_size=500, chunk_overlap=0)\n",
    "splits = text_splitter.split_documents(web_attack_data)\n",
    "print(len(splits))"
   ]
  },
  {
   "cell_type": "code",
   "execution_count": 4,
   "id": "742f7773-98c9-4e4d-9b2a-90c786211953",
   "metadata": {},
   "outputs": [
    {
     "name": "stdout",
     "output_type": "stream",
     "text": [
      "load_and_split done \n",
      "<langchain_community.vectorstores.chroma.Chroma object at 0x0000019DA5D88A30>\n",
      "5\n",
      "=========New==========\n",
      "AutoDev offers the following key features: (i) the ability to\n",
      "track and manage user and AI agents conversations through\n",
      "aConversation Manager , (ii) a library of customized Tools\n",
      "to accomplish a variety of code and SE related objectives,\n",
      "(iii) the ability to schedule various AI agents to work col-\n",
      "laboratively towards a common objective through an Agent\n",
      "Scheduler , and (iv) the ability to execute code and run tests\n",
      "through an Evaluation Environment .arXiv:2403.08299v1  [cs.SE]  13 Mar 2024\n",
      "=========New==========\n",
      "Michele Tufano, et al.\n",
      "Figure 1 illustrates a high-level example of the AutoDev\n",
      "workflow. The user defines an objective (e.g., testing a spe-\n",
      "cific method). The AI Agent writes tests in a new file and\n",
      "initiates the test execution command, all within a secure\n",
      "Evaluation Environment. The output of the test execution,\n",
      "including failure logs, is then incorporated into the conver-\n",
      "sation. The AI agent analyzes this output, triggers a retrieval\n",
      "command, incorporates the retrieved information by edit-\n",
      "ing the file, and re-invokes the test execution. Finally, the\n",
      "environment provides feedback on the success of the test\n",
      "execution and completion of the user’s objective.\n",
      "The entire process is orchestrated by AutoDev autonomously,\n",
      "requiring no developer intervention beyond setting the ini-\n",
      "tial objective. In contrast, with existing AI coding assistants\n",
      "integrated into IDEs, developers would have to manually\n",
      "execute tests (e.g., run pytest), provide failure logs to the AI\n",
      "chat interface, possibly identify additional contextual infor-\n",
      "mation to be incorporated, and repeat validation actions to\n",
      "ensure test success after the AI generates revised code.\n",
      "AutoDev draws inspiration from previous work in the\n",
      "area of autonomous AI agents. For example, AutoGen [ 22]\n",
      "is a framework which orchestrates language model work-\n",
      "flows and facilitates conversations between multiple agents.\n",
      "AutoDev extends AutoGen by going beyond conversation\n",
      "management and enabling agents to directly interact with\n",
      "the code repository, executing commands and actions au-\n",
      "tonomously. Similarly, AutoDev builds upon Auto-GPT [ 8],\n",
      "an open-source AI agent for autonomous task execution by\n",
      "offering code and IDE specific capabilities to enable execu-\n",
      "tion of complex software engineering tasks.\n",
      "In our evaluation, we assess the capabilities of AutoDev us-\n",
      "ing the HumanEval dataset[ 5], originally designed for code\n",
      "generation from natural language descriptions (docstrings).\n",
      "Additionally, we extend the evaluation to include the test\n",
      "case generation task, showcasing the versatility of AutoDev\n",
      "in handling diverse software engineering objectives. The\n",
      "results demonstrate promising performance, with AutoDev\n",
      "achieving remarkable scores of 91.5% and 87.8% for Pass@1\n",
      "for code generation and test generation respectively. These\n",
      "outcomes underscore the effectiveness of AutoDev in au-\n",
      "tomating software engineering tasks while maintaining a\n",
      "secure and user-controlled development environment.\n",
      "2 AutoDev Design\n",
      "The design overview depicted in Fig. 2 provides insight into\n",
      "AutoDev’s architecture. Once the initial configurations are\n",
      "complete, AutoDev organizes its capabilities into four groups:\n",
      "a Conversation Manager that tracks and manages the user\n",
      "and agents conversations; a Tools library where a variety\n",
      "of code and IDE related tools are available for the agents,\n",
      "an Agents Scheduler that schedules various agents, and an\n",
      "Evaluation Environment that enables execution operations.\n",
      "Below we explain each capability in details.2.1 Rules, Actions, and Objective Configuration\n",
      "The user initiates the process by configuring rules and ac-\n",
      "tions through yaml files. These files define the available\n",
      "commands (actions) that AI agents can perform. Users can\n",
      "leverage default settings or fine-grained permissions by en-\n",
      "abling/disabling specific commands, tailoring AutoDev to\n",
      "their specific needs. This configuration step allows for pre-\n",
      "cise control over the AI agents’ capabilities. At this stage the\n",
      "user can define the number and behavior of the AI agents,\n",
      "assigning specific responsibilities, permissions, and available\n",
      "actions. For example, the user could define a \"Developer\"\n",
      "agent and a \"Reviewer\" agent, that collaboratively work to-\n",
      "wards an objective.\n",
      "Following the rules and actions configuration, the user\n",
      "specifies the software engineering task or process to be ac-\n",
      "complished by AutoDev. For example, the user can ask to\n",
      "generate test cases and make sure they are syntactically\n",
      "=========New==========\n",
      "AutoDev: Automated AI-Driven Development\n",
      "Approach Model Extra Training Pass@1\n",
      "Language Agent Tree Search GPT-4 ✓ 94.4\n",
      "AutoDev GPT-4× 91.5\n",
      "Reflexion GPT-4 ✓ 91.0\n",
      "zero-shot (baseline) GPT-4 × 67.0\n",
      "Table 1. Code Generation results on HumanEval. AutoDev\n",
      "achieves top-3 performance on the leaderboard without extra\n",
      "training data, unlike LATS and Reflexion.\n",
      "We gauge AutoDev’s effectiveness using the Pass@k met-\n",
      "ric, where 𝑘represents the number of attempts made. A\n",
      "successfully solved problem is defined as one where Au-\n",
      "toDev generates the code of the method’s body, satisfying all\n",
      "human-written tests. An attempt corresponds to an entire\n",
      "AutoDev conversation, which involves multiple inference\n",
      "calls and steps. This contrasts with other approaches, like\n",
      "directly invoking GPT-4, which typically involve a single\n",
      "inference call. Details regarding the multiple inference calls\n",
      "and steps are further explored in 𝑅𝑄 3. For this evaluation,\n",
      "we set 𝑘=1, thus computing Pass@1, considering only the\n",
      "success achieved in the first attempt.\n",
      "𝑅𝑄 2: How effective is AutoDev in test generation task?\n",
      "For this research question, we modify the HumanEval dataset\n",
      "to evaluate AutoDev’s capabilities in test generation. We con-\n",
      "sider the human-written solution and discard the provided\n",
      "human-written tests. AutoDev is instructed to generate test\n",
      "cases for the focal method and is evaluated based on test\n",
      "success, invocation of the focal method, and test coverage.\n",
      "We report Pass@1, considering tests successful if they pass\n",
      "and invoke the focal method. Additionally, we compare the\n",
      "coverage of AutoDev’s tests with those written by humans.\n",
      "𝑅𝑄 3: How efficient is AutoDev in completing tasks?\n",
      "In this research question, we investigate AutoDev’s efficiency\n",
      "in completing SE tasks. We analyze the number of steps or\n",
      "inference calls needed, the distribution of commands used\n",
      "(e.g., write ,test ), and the total number of tokens used in\n",
      "the conversation.\n",
      "AutoDev Settings\n",
      "For this evaluation, AutoDev maintains consistent settings\n",
      "with one agent based on the GPT-4 model (gpt-4-1106-preview).\n",
      "Enabled actions include file editing, retrieval, and testing.\n",
      "The only communication command available is the stop\n",
      "command, indicating task completion. Other commands,\n",
      "such as ask, are disabled, requiring AutoDev to operate au-\n",
      "tonomously without human feedback or intervention beyond\n",
      "the initial goal-setting.Approach Model Pass@1Passing\n",
      "CoverageOverall\n",
      "Coverage\n",
      "Human - 100 99.4 99.4\n",
      "AutoDev GPT-4 87.8 99.3 88.8\n",
      "zero-shot (baseline) GPT-4 75 99.3 74\n",
      "Table 2. Test Generation results on HumanEval. AutoDev\n",
      "enhances Pass@1 compared to baseline, generating tests\n",
      "achieving comparable coverage to human-written tests.\n",
      "4 Empirical Results\n",
      "𝑅𝑄 1: How effective is AutoDev in a code generation\n",
      "task?\n",
      "Table 1 displays the results for 𝑅𝑄 1, comparing AutoDev\n",
      "against two alternative approaches and the zero-shot base-\n",
      "line. The table includes information about the model power-\n",
      "ing each approach, the need for additional training, and the\n",
      "Pass@1 metric.\n",
      "We compared AutoDev with Language Agent Tree Search\n",
      "(LATS) and Reflexion, two leading approaches on the Hu-\n",
      "manEval leaderboard as of March 2024 [ 1]. The results for the\n",
      "zero-shot baseline (GPT-4) are taken from the OpenAI GPT-4\n",
      "technical report [ 11], while those for LATS and Reflexion\n",
      "from the HuamnEval leaderboard [1].\n",
      "Language Agent Tree Search (LATS) [ 23] is a versatile\n",
      "framework that utilizes Large Language Models (LLMs) for\n",
      "planning, acting, and reasoning. Inspired by Monte Carlo\n",
      "tree search, LATS employs LLMs as agents, value functions,\n",
      "and optimizers, repurposing their capabilities for improved\n",
      "decision-making.\n",
      "Reflexion[ 17] introduces a unique framework to reinforce\n",
      "language agents via linguistic feedback without weight up-\n",
      "dates. Agents in Reflexion verbally reflect on task feedback\n",
      "signals, maintaining their reflective text in an episodic mem-\n",
      "ory buffer for enhanced decision-making.\n",
      "Table 1 indicates that AutoDev achieves a Pass@1 rate of\n",
      "=========New==========\n",
      "signals, maintaining their reflective text in an episodic mem-\n",
      "ory buffer for enhanced decision-making.\n",
      "Table 1 indicates that AutoDev achieves a Pass@1 rate of\n",
      "91.5%, securing the second-best position on the HumanEval\n",
      "leaderboard. Notably, this result is obtained without addi-\n",
      "tional training data, distinguishing AutoDev from LATS,\n",
      "which achieves 94.4%. Furthermore, the AutoDev framework\n",
      "enhances GPT-4 performance from 67% to 91.5%, marking a\n",
      "30% relative improvement.\n",
      "These results underscore AutoDev’s capability to signif-\n",
      "icantly enhance the performance of LLMs in completing\n",
      "software engineering tasks. However, it’s worth noting that\n",
      "AutoDev’s effectiveness may entail multiple inference calls\n",
      "and steps, as we delve into further detail in 𝑅𝑄 3.\n",
      "𝑅𝑄 2: How effective is AutoDev in test generation task?\n",
      "Table 2 presents the outcomes for 𝑅𝑄 2, comparing AutoDev\n",
      "with the zero-shot GPT-4 (baseline) and human-written tests\n",
      "in the test generation task. Since OpenAI has not evaluated\n",
      "=========New==========\n",
      "AutoDev: Automated AI-Driven Development\n",
      "© Copyright Microsoft Corporation. All rights reserved. \n",
      "Build &\n",
      "Execution\n",
      "File Editing\n",
      "Testing\n",
      "Tools Library\n",
      "Retrieval\n",
      "Git\n",
      "Eval Environment\n",
      "Multi -Agents\n",
      "Agent \n",
      "Scheduler\n",
      "ObjectiveRules & Actions\n",
      "Conversation\n",
      "Output Organizer Conversation ManagerUser\n",
      "ParserState\n",
      "Repository\n",
      "SECURITY\n",
      "Figure 2. Overview of the AutoDev Framework: The user initiates the process by defining the objective to be achieved. The\n",
      "Conversation Manager initializes the conversation and settings. The Agent Scheduler orchestrates AI agents to collaborate on\n",
      "the task and forwards their commands to the Conversation Manager. The Conversation Manager parses these commands and\n",
      "invokes the Tools Library, which offers various actions that can be performed on the repository. Agents’ actions are executed\n",
      "within a secure Docker environment, and the output is returned to the Conversation Manager, which incorporates it into the\n",
      "ongoing conversation. This iterative process continues until the task is successfully completed.\n",
      "2.2.3 Conversation Conclusion. The Conversation Man-\n",
      "ager determines when to conclude the conversation. This\n",
      "may happen when an agent signals the completion of the task\n",
      "(stop command), the conversation reaches a user-defined\n",
      "maximum number of iterations/tokens, or issues are detected\n",
      "either in the process or within the Evaluation Environment.\n",
      "The comprehensive design of AutoDev ensures a systematic\n",
      "and controlled approach to AI-driven development.\n",
      "2.3 Agent Scheduler\n",
      "The Agent Scheduler takes charge of orchestrating AI agents\n",
      "to achieve the user-defined objective. Agents, configured\n",
      "with specific personas and sets of available commands, oper-\n",
      "ate collaboratively to perform diverse tasks. The scheduler\n",
      "employs various collaboration algorithms, such as Round\n",
      "Robin, Token-Based, or Priority-Based, to determine the or-\n",
      "der and manner in which agents contribute to the conver-\n",
      "sation. Specifically, scheduling algorithms include but not\n",
      "limited to: (i) Round Robin collaboration, which invokes\n",
      "each agent sequentially, allowing each to execute a predeter-\n",
      "mined number of operations; (ii) token-based collaboration,\n",
      "enabling an agent to undertake multiple operations until it\n",
      "issues a token signifying completion of its assigned tasks; (iii)\n",
      "priority-based collaboration, initiating agents in accordance\n",
      "with their prioritized order. The agent scheduler invokes a\n",
      "specific agent passing the current conversation.2.3.1 Agents. Agents, comprising Large Language Mod-\n",
      "els (LLMs) like OpenAI GPT-4 and Small Language Models\n",
      "(SLMs) optimized for code generation, communicate through\n",
      "textual natural language. These agents receive objectives and\n",
      "conversation histories from the Agent Scheduler, responding\n",
      "with actions specified by the Rules and Actions configura-\n",
      "tion. Each agent, with its unique configuration, contributes\n",
      "to the overall progress toward achieving the user’s objective.\n",
      "2.4 Tools Library\n",
      "The Tools Library within AutoDev provides a range of com-\n",
      "mands that empower Agents to perform diverse operations\n",
      "on the repository. These commands are designed to encapsu-\n",
      "late complex actions, tools, and utilities behind a straightfor-\n",
      "ward and intuitive command structure. For instance, intrica-\n",
      "cies related to build and test execution are abstracted away\n",
      "through simple commands like build andtest <test_file> .\n",
      "•File Editing : This category encompasses commands\n",
      "for editing files, including code, configuration, and\n",
      "documentation. The utilities within this category, such\n",
      "as write, edit, insert, and delete, offer varying levels of\n",
      "granularity. Agents can perform actions ranging from\n",
      "writing entire files to modifying specific lines within\n",
      "a file. For example, the command write <filepath>\n",
      "<start_line>-<end_line> <content> , allows the\n",
      "agent to re-write a range of lines with new content.\n"
     ]
    },
    {
     "name": "stderr",
     "output_type": "stream",
     "text": [
      "C:\\Users\\bsp09\\Desktop\\gitRepo\\PythonPlay\\learn_gpt\\jupyter\\venv\\lib\\site-packages\\langchain_core\\_api\\deprecation.py:119: LangChainDeprecationWarning: The method `BaseRetriever.get_relevant_documents` was deprecated in langchain-core 0.1.46 and will be removed in 0.3.0. Use invoke instead.\n",
      "  warn_deprecated(\n"
     ]
    }
   ],
   "source": [
    "from langchain_community.vectorstores import Chroma\n",
    "from chromadb.utils import embedding_functions\n",
    "from langchain_openai import AzureOpenAIEmbeddings\n",
    "from langchain_community.embeddings.sentence_transformer import (\n",
    "    SentenceTransformerEmbeddings,\n",
    ")\n",
    "\n",
    "from langchain_community.document_loaders import PyPDFLoader\n",
    "\n",
    "loader = PyPDFLoader(\"auto-dev.pdf\")\n",
    "pages = loader.load_and_split()\n",
    "print('load_and_split done ')\n",
    "\n",
    "# embedding_model = embedding_functions.SentenceTransformerEmbeddingFunction(model_name=\"all-MiniLM-L6-v2\")\n",
    "embedding_model_default = SentenceTransformerEmbeddings(model_name=\"all-MiniLM-L6-v2\")\n",
    "# embedding_model = AzureOpenAIEmbeddings(\n",
    "#         openai_api_version=\"2024-02-01\",\n",
    "#         azure_deployment=\"embedding-small\"\n",
    "#     )\n",
    "db = Chroma.from_documents(documents=pages, embedding=embedding_model_default)\n",
    "print(db)\n",
    "retriever= db.as_retriever(search_kwargs={\"k\":5})\n",
    "docs = retriever.get_relevant_documents(\"What is auto-dev\")\n",
    "print(len(docs))\n",
    "for doc in docs:\n",
    "    print(\"=========New==========\")\n",
    "    print(doc.page_content)"
   ]
  },
  {
   "cell_type": "code",
   "execution_count": 39,
   "id": "dc9b8ff6-10ea-4e8b-a8f2-6b345deab757",
   "metadata": {},
   "outputs": [],
   "source": [
    "import logging\n",
    "logging.basicConfig()\n",
    "logging.getLogger('langchain.retrievers.multi_query').setLevel(logging.INFO)\n",
    "\n",
    "from langchain.retrievers.multi_query import MultiQueryRetriever\n",
    "\n",
    "retriever_multi = MultiQueryRetriever.from_llm(retriever, llm=model)"
   ]
  },
  {
   "cell_type": "code",
   "execution_count": 42,
   "id": "ca26913f-7d47-4040-bfac-07a118a10c65",
   "metadata": {},
   "outputs": [
    {
     "name": "stderr",
     "output_type": "stream",
     "text": [
      "INFO:langchain.retrievers.multi_query:Generated queries: ['1. Can you provide information on auto-dev technology?', '2. How does auto-dev work and what are its benefits?', '3. What are the key features and applications of auto-dev?']\n"
     ]
    },
    {
     "name": "stdout",
     "output_type": "stream",
     "text": [
      "3\n",
      "=========New==========\n",
      "Michele Tufano, et al.\n",
      "Figure 1 illustrates a high-level example of the AutoDev\n",
      "workflow. The user defines an objective (e.g., testing a spe-\n",
      "cific method). The AI Agent writes tests in a new file and\n",
      "initiates the test execution command, all within a secure\n",
      "Evaluation Environment. The output of the test execution,\n",
      "including failure logs, is then incorporated into the conver-\n",
      "sation. The AI agent analyzes this output, triggers a retrieval\n",
      "command, incorporates the retrieved information by edit-\n",
      "ing the file, and re-invokes the test execution. Finally, the\n",
      "environment provides feedback on the success of the test\n",
      "execution and completion of the user’s objective.\n",
      "The entire process is orchestrated by AutoDev autonomously,\n",
      "requiring no developer intervention beyond setting the ini-\n",
      "tial objective. In contrast, with existing AI coding assistants\n",
      "integrated into IDEs, developers would have to manually\n",
      "execute tests (e.g., run pytest), provide failure logs to the AI\n",
      "chat interface, possibly identify additional contextual infor-\n",
      "mation to be incorporated, and repeat validation actions to\n",
      "ensure test success after the AI generates revised code.\n",
      "AutoDev draws inspiration from previous work in the\n",
      "area of autonomous AI agents. For example, AutoGen [ 22]\n",
      "is a framework which orchestrates language model work-\n",
      "flows and facilitates conversations between multiple agents.\n",
      "AutoDev extends AutoGen by going beyond conversation\n",
      "management and enabling agents to directly interact with\n",
      "the code repository, executing commands and actions au-\n",
      "tonomously. Similarly, AutoDev builds upon Auto-GPT [ 8],\n",
      "an open-source AI agent for autonomous task execution by\n",
      "offering code and IDE specific capabilities to enable execu-\n",
      "tion of complex software engineering tasks.\n",
      "In our evaluation, we assess the capabilities of AutoDev us-\n",
      "ing the HumanEval dataset[ 5], originally designed for code\n",
      "generation from natural language descriptions (docstrings).\n",
      "Additionally, we extend the evaluation to include the test\n",
      "case generation task, showcasing the versatility of AutoDev\n",
      "in handling diverse software engineering objectives. The\n",
      "results demonstrate promising performance, with AutoDev\n",
      "achieving remarkable scores of 91.5% and 87.8% for Pass@1\n",
      "for code generation and test generation respectively. These\n",
      "outcomes underscore the effectiveness of AutoDev in au-\n",
      "tomating software engineering tasks while maintaining a\n",
      "secure and user-controlled development environment.\n",
      "2 AutoDev Design\n",
      "The design overview depicted in Fig. 2 provides insight into\n",
      "AutoDev’s architecture. Once the initial configurations are\n",
      "complete, AutoDev organizes its capabilities into four groups:\n",
      "a Conversation Manager that tracks and manages the user\n",
      "and agents conversations; a Tools library where a variety\n",
      "of code and IDE related tools are available for the agents,\n",
      "an Agents Scheduler that schedules various agents, and an\n",
      "Evaluation Environment that enables execution operations.\n",
      "Below we explain each capability in details.2.1 Rules, Actions, and Objective Configuration\n",
      "The user initiates the process by configuring rules and ac-\n",
      "tions through yaml files. These files define the available\n",
      "commands (actions) that AI agents can perform. Users can\n",
      "leverage default settings or fine-grained permissions by en-\n",
      "abling/disabling specific commands, tailoring AutoDev to\n",
      "their specific needs. This configuration step allows for pre-\n",
      "cise control over the AI agents’ capabilities. At this stage the\n",
      "user can define the number and behavior of the AI agents,\n",
      "assigning specific responsibilities, permissions, and available\n",
      "actions. For example, the user could define a \"Developer\"\n",
      "agent and a \"Reviewer\" agent, that collaboratively work to-\n",
      "wards an objective.\n",
      "Following the rules and actions configuration, the user\n",
      "specifies the software engineering task or process to be ac-\n",
      "complished by AutoDev. For example, the user can ask to\n",
      "generate test cases and make sure they are syntactically\n",
      "\t========\n",
      "{'page': 1, 'source': 'auto-dev.pdf'}\n",
      "=========New==========\n",
      "vention occurs, or the maximum iteration limit is reached.\n",
      "AutoDev’s design ensures a systematic and secure orchestra-\n",
      "tion of AI agents to achieve complex software engineering\n",
      "tasks in an autonomous and user-controlled manner.\n",
      "3 Empirical Design\n",
      "In our empirical evaluation, we aim to assess AutoDev’s ca-\n",
      "pabilities and effectiveness in software engineering tasks, ex-\n",
      "amining whether it can enhance an AI model’s performance\n",
      "beyond simple inference. Additionally, we are interested in\n",
      "evaluating the cost of AutoDev in terms of the number of\n",
      "steps, inference calls, and tokens. We define three experi-\n",
      "mental research questions:\n",
      "Research Questions\n",
      "1.𝑅𝑄 1: How effective is AutoDev in code generation\n",
      "task?\n",
      "2.𝑅𝑄 2: How effective is AutoDev in test generation task?\n",
      "3.𝑅𝑄 3: How efficient is AutoDev in completing tasks?\n",
      "𝑅𝑄 1: How effective is AutoDev in code generation\n",
      "task?\n",
      "To address 𝑅𝑄 1, we evaluate AutoDev’s performance in a\n",
      "code generation task using the HumanEval problem-solving\n",
      "dataset in Python. This dataset comprises 164 handwritten\n",
      "programming problems, each containing a function signa-\n",
      "ture, docstring, body, and an average of 7.7 unit tests. In our\n",
      "assessment, AutoDev is provided with a partial file contain-\n",
      "ing the function signature and docstring, with the objective\n",
      "of implementing the method.\n",
      "\t========\n",
      "{'page': 3, 'source': 'auto-dev.pdf'}\n",
      "=========New==========\n",
      "AutoDev: Automated AI-Driven Development\n",
      "Michele Tufano\n",
      "Microsoft\n",
      "Redmond, USAAnisha Agarwal\n",
      "Microsoft\n",
      "Redmond, USAJinu Jang\n",
      "Microsoft\n",
      "Redmond, USA\n",
      "Roshanak Zilouchian\n",
      "Moghaddam\n",
      "Microsoft\n",
      "Redmond, USANeel Sundaresan\n",
      "Microsoft\n",
      "Redmond, USA\n",
      "Abstract\n",
      "The landscape of software development has witnessed a\n",
      "paradigm shift with the advent of AI-powered assistants,\n",
      "exemplified by GitHub Copilot. However, existing solutions\n",
      "are not leveraging all the potential capabilities available in\n",
      "an IDE such as building, testing, executing code, git opera-\n",
      "tions, etc. Therefore, they are constrained by their limited\n",
      "capabilities, primarily focusing on suggesting code snippets\n",
      "and file manipulation within a chat-based interface.\n",
      "To fill this gap, we present AutoDev, a fully automated\n",
      "AI-driven software development framework, designed for\n",
      "autonomous planning and execution of intricate software\n",
      "engineering tasks. AutoDev enables users to define complex\n",
      "software engineering objectives, which are assigned to Au-\n",
      "toDev’s autonomous AI Agents to achieve. These AI agents\n",
      "can perform diverse operations on a codebase, including file\n",
      "editing, retrieval, build processes, execution, testing, and\n",
      "git operations. They also have access to files, compiler out-\n",
      "put, build and testing logs, static analysis tools, and more.\n",
      "This enables the AI Agents to execute tasks in a fully au-\n",
      "tomated manner with a comprehensive understanding of\n",
      "the contextual information required. Furthermore, AutoDev\n",
      "establishes a secure development environment by confining\n",
      "all operations within Docker containers. This framework\n",
      "incorporates guardrails to ensure user privacy and file secu-\n",
      "rity, allowing users to define specific permitted or restricted\n",
      "commands and operations within AutoDev.\n",
      "In our evaluation, we tested AutoDev on the HumanEval\n",
      "dataset, obtaining promising results with 91.5% and 87.8% of\n",
      "Pass@1 for code generation and test generation respectively,\n",
      "demonstrating its effectiveness in automating software engi-\n",
      "neering tasks while maintaining a secure and user-controlled\n",
      "development environment.\n",
      "1 Introduction\n",
      "As developers increasingly adopt AI assistants such as Chat-\n",
      "GPT for their development tasks, productivity gains become\n",
      "evident. AI coding assistants have further advanced into\n",
      "integrated development environments (IDEs) like GitHub\n",
      "Copilot [ 2], where they offer code suggestions both within\n",
      "chat interfaces and directly within files.\n",
      "© Copyright Microsoft Corporation. All rights reserved. \n",
      "Repository\n",
      "Eval Environmentwrite <file> <content>\n",
      "Run test \n",
      "Error <failure log>\n",
      "retrieval signature\n",
      "write <file> <fix>\n",
      "Run test \n",
      "Success\n",
      "Content result\n",
      "OpenAI\n",
      "GPT-4\n",
      "User\n",
      "AI AgentTest this method\n",
      "Actions\n",
      "ConversationFigure 1. AutoDev enables an AI Agent to achieve a given\n",
      "objective by performing several actions within the repository.\n",
      "The Eval Environment executes the suggested operations,\n",
      "providing the AI Agent with the resulting outcome. In the\n",
      "conversation, purple messages are from the AI agent, while\n",
      "blue messages are responses from the Eval Environment.\n",
      "However, these AI coding assistants, despite their integra-\n",
      "tion into IDEs, exhibit limited functionalities and lack con-\n",
      "textual awareness[ 3,6]. They often do not leverage all IDE\n",
      "capabilities such as invoking linters, compilers, or executing\n",
      "command-line operations, and consequently, developers still\n",
      "need to manually validate syntax and ensure the correctness\n",
      "of AI-generated code, execute the codebase, and inspect error\n",
      "logs.\n",
      "AutoDev bridges this gap by offering autonomous AI\n",
      "agents the ability to execute actions such as file editing, re-\n",
      "trieval, build, testing, and CLI commands directly within the\n",
      "repository to achieve user-defined objectives, thus enabling\n",
      "the completion of complex tasks autonomously.\n",
      "AutoDev offers the following key features: (i) the ability to\n",
      "track and manage user and AI agents conversations through\n",
      "aConversation Manager , (ii) a library of customized Tools\n",
      "\t========\n",
      "{'page': 0, 'source': 'auto-dev.pdf'}\n"
     ]
    }
   ],
   "source": [
    "find = retriever_multi.get_relevant_documents(query=\"What is auto-dev\")\n",
    "print(len(find))\n",
    "for f in find:\n",
    "    print(\"=========New==========\")\n",
    "    print(f.page_content)\n",
    "    print(\"\\t========\")\n",
    "    print(f.metadata)"
   ]
  },
  {
   "cell_type": "code",
   "execution_count": null,
   "id": "ab67fc97-2455-4f92-8e13-eacb2ee5bfc7",
   "metadata": {},
   "outputs": [],
   "source": []
  }
 ],
 "metadata": {
  "kernelspec": {
   "display_name": "Python 3 (ipykernel)",
   "language": "python",
   "name": "python3"
  },
  "language_info": {
   "codemirror_mode": {
    "name": "ipython",
    "version": 3
   },
   "file_extension": ".py",
   "mimetype": "text/x-python",
   "name": "python",
   "nbconvert_exporter": "python",
   "pygments_lexer": "ipython3",
   "version": "3.10.14"
  }
 },
 "nbformat": 4,
 "nbformat_minor": 5
}
