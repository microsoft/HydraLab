{
 "cells": [
  {
   "cell_type": "code",
   "execution_count": 1,
   "id": "31dd2f63-7048-4923-9329-1a0688c9016f",
   "metadata": {},
   "outputs": [
    {
     "name": "stdout",
     "output_type": "stream",
     "text": [
      "查询向量: [[0.8577404  0.6656455  0.7964183  0.6815861  0.5602078  0.7651156\n",
      "  0.2741945  0.01905131 0.0925325  0.19228981]]\n",
      "最近邻标签: [[90]]\n",
      "距离: [[0.37445372]]\n"
     ]
    }
   ],
   "source": [
    "import hnswlib\n",
    "import numpy as np\n",
    "\n",
    "def main():\n",
    "    # 设定空间维度和数据量\n",
    "    dim = 10  # 向量的维度\n",
    "    num_elements = 200  # 数据点的数量\n",
    "\n",
    "    # 生成一些随机数据作为数据集\n",
    "    data = np.float32(np.random.random((num_elements, dim)))\n",
    "\n",
    "    # 初始化HNSW图\n",
    "    p = hnswlib.Index(space='l2', dim=dim)  # 使用L2距离\n",
    "    p.init_index(max_elements=num_elements, ef_construction=200, M=16)\n",
    "\n",
    "    # 添加数据到索引\n",
    "    p.add_items(data)\n",
    "\n",
    "    # 设置查询时的参数\n",
    "    p.set_ef(50)  # ef的值越大，查找过程越精确但速度越慢\n",
    "\n",
    "    # 查询向量\n",
    "    query = np.float32(np.random.random((1, dim)))\n",
    "\n",
    "    # 执行搜索，k=1表示我们查找最近的一个邻居\n",
    "    labels, distances = p.knn_query(query, k=1)\n",
    "\n",
    "    print(f\"查询向量: {query}\")\n",
    "    print(f\"最近邻标签: {labels}\")\n",
    "    print(f\"距离: {distances}\")\n",
    "\n",
    "main()"
   ]
  },
  {
   "cell_type": "code",
   "execution_count": null,
   "id": "8602d15e-3fa5-4ac4-86d2-a712f33675c6",
   "metadata": {},
   "outputs": [],
   "source": []
  }
 ],
 "metadata": {
  "kernelspec": {
   "display_name": "Python 3 (ipykernel)",
   "language": "python",
   "name": "python3"
  },
  "language_info": {
   "codemirror_mode": {
    "name": "ipython",
    "version": 3
   },
   "file_extension": ".py",
   "mimetype": "text/x-python",
   "name": "python",
   "nbconvert_exporter": "python",
   "pygments_lexer": "ipython3",
   "version": "3.11.9"
  }
 },
 "nbformat": 4,
 "nbformat_minor": 5
}
