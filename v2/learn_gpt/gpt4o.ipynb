{
 "cells": [
  {
   "cell_type": "code",
   "execution_count": 4,
   "id": "38235783-8a94-490f-b534-50ae8494a031",
   "metadata": {},
   "outputs": [
    {
     "name": "stdout",
     "output_type": "stream",
     "text": [
      "content='I can assist with a variety of tasks and provide information on a wide range of topics. Some of the things I can help with include:\\n\\n1. **Answering Questions**: Provide information on general knowledge, science, history, technology, and more.\\n2. **Writing Assistance**: Help with writing essays, reports, emails, or creative pieces. Offer grammar and style suggestions.\\n3. **Homework Help**: Assist with understanding concepts, solving problems, and providing explanations in subjects like math, science, and literature.\\n4. **Language Translation**: Translate text between multiple languages.\\n5. **Programming Help**: Offer guidance on coding problems, debugging, and understanding programming concepts.\\n6. **Recommendations**: Suggest books, movies, music, and other media based on your preferences.\\n7. **Planning**: Assist with planning trips, events, or schedules.\\n8. **Health and Fitness Tips**: Provide general advice on nutrition, exercise, and wellness (though I’m not a substitute for professional medical advice).\\n9. **Learning New Skills**: Offer resources and guidance on learning new hobbies or skills, such as cooking, playing an instrument, or learning a new language.\\n10. **Current Events**: Provide summaries and explanations of recent news and events (up until my knowledge cutoff date in October 2023).\\n\\nFeel free to ask me anything specific you need help with!' response_metadata={'token_usage': {'completion_tokens': 280, 'prompt_tokens': 12, 'total_tokens': 292}, 'model_name': 'gpt-4o', 'system_fingerprint': 'fp_729ea513f7', 'finish_reason': 'stop', 'logprobs': None} id='run-eac23619-91ef-465e-b865-fe314c460fc7-0'\n"
     ]
    }
   ],
   "source": [
    "import os\n",
    "\n",
    "from langchain_openai import ChatOpenAI\n",
    "from dotenv import load_dotenv, find_dotenv\n",
    "\n",
    "_ = load_dotenv(find_dotenv())\n",
    "key=os.environ.get(\"OPENAI_API_KEY\")\n",
    "llm = ChatOpenAI(model=\"gpt-4o\", api_key=key)\n",
    "\n",
    "resp = llm.invoke(\"what can you do?\")\n",
    "print(resp.content)"
   ]
  },
  {
   "cell_type": "code",
   "execution_count": null,
   "id": "d192ee0b-c185-48d6-87a9-33bbf2984ee7",
   "metadata": {},
   "outputs": [],
   "source": []
  }
 ],
 "metadata": {
  "kernelspec": {
   "display_name": "Python 3 (ipykernel)",
   "language": "python",
   "name": "python3"
  },
  "language_info": {
   "codemirror_mode": {
    "name": "ipython",
    "version": 3
   },
   "file_extension": ".py",
   "mimetype": "text/x-python",
   "name": "python",
   "nbconvert_exporter": "python",
   "pygments_lexer": "ipython3",
   "version": "3.10.14"
  }
 },
 "nbformat": 4,
 "nbformat_minor": 5
}
