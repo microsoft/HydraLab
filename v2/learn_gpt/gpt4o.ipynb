{
 "cells": [
  {
   "cell_type": "code",
   "execution_count": 1,
   "id": "38235783-8a94-490f-b534-50ae8494a031",
   "metadata": {},
   "outputs": [
    {
     "name": "stdout",
     "output_type": "stream",
     "text": [
      "content=\"I can assist with a wide range of tasks and provide information on various topics. Here are some things I can help with:\\n\\n1. **Answering Questions**: I can provide information on a wide array of topics, including science, history, technology, and more.\\n2. **Writing Assistance**: I can help you write essays, articles, emails, and other types of content.\\n3. **Research**: I can help you gather information on specific topics for personal or academic purposes.\\n4. **Language Translation**: I can translate text between multiple languages.\\n5. **Tutoring and Learning**: I can help explain concepts in subjects like math, science, literature, and more.\\n6. **Programming Help**: I can assist with coding questions and debugging in various programming languages.\\n7. **Recommendations**: I can suggest books, movies, recipes, and more based on your interests.\\n8. **Scheduling and Planning**: I can help you organize your tasks and plan your day.\\n9. **Health and Wellness**: I can provide general advice on fitness, nutrition, and mental health, though it's always best to consult a professional for specific medical advice.\\n10. **Creative Writing**: I can help brainstorm ideas for stories, poems, and other creative projects.\\n\\nFeel free to ask me anything, and I'll do my best to assist you!\" response_metadata={'token_usage': {'completion_tokens': 275, 'prompt_tokens': 12, 'total_tokens': 287}, 'model_name': 'gpt-4o', 'system_fingerprint': 'fp_319be4768e', 'finish_reason': 'stop', 'logprobs': None} id='run-bb7d0992-04a8-4c7c-8dbb-b6d506c0afcc-0'\n"
     ]
    }
   ],
   "source": [
    "import os\n",
    "\n",
    "from langchain_openai import ChatOpenAI\n",
    "from dotenv import load_dotenv, find_dotenv\n",
    "\n",
    "_ = load_dotenv(find_dotenv())\n",
    "key=os.environ.get(\"OPENAI_API_KEY\")\n",
    "llm = ChatOpenAI(model=\"gpt-4o\", api_key=key)\n",
    "\n",
    "resp = llm.invoke(\"what can you do?\")\n",
    "print(resp)"
   ]
  },
  {
   "cell_type": "code",
   "execution_count": null,
   "id": "d192ee0b-c185-48d6-87a9-33bbf2984ee7",
   "metadata": {},
   "outputs": [],
   "source": []
  }
 ],
 "metadata": {
  "kernelspec": {
   "display_name": "Python 3 (ipykernel)",
   "language": "python",
   "name": "python3"
  },
  "language_info": {
   "codemirror_mode": {
    "name": "ipython",
    "version": 3
   },
   "file_extension": ".py",
   "mimetype": "text/x-python",
   "name": "python",
   "nbconvert_exporter": "python",
   "pygments_lexer": "ipython3",
   "version": "3.11.9"
  }
 },
 "nbformat": 4,
 "nbformat_minor": 5
}
